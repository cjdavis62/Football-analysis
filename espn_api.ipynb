{
 "cells": [
  {
   "cell_type": "markdown",
   "metadata": {},
   "source": [
    "## Set up imports to use the API"
   ]
  },
  {
   "cell_type": "code",
   "execution_count": null,
   "metadata": {
    "tags": []
   },
   "outputs": [],
   "source": [
    "import pandas as pd\n",
    "# Football API\n",
    "from espn_api.football import League"
   ]
  },
  {
   "cell_type": "markdown",
   "metadata": {},
   "source": [
    "## Get credentials\n",
    "\n",
    "Save on local drive in a convenient location (here using the directory of the notebook).\n",
    "\n",
    "Use format:\n",
    "```\n",
    "swid <swid>\n",
    "espn_s2 <espn_s2>\n",
    "```\n",
    "\n",
    "follow instructions to get these items via the following link: https://github.com/cwendt94/espn-api/discussions/150"
   ]
  },
  {
   "cell_type": "code",
   "execution_count": null,
   "metadata": {
    "tags": []
   },
   "outputs": [],
   "source": [
    "credentials = {}\n",
    "with open('credentials.txt') as f:\n",
    "    for line in f:\n",
    "        (key, val) = line.split()\n",
    "        credentials[(key)] = val"
   ]
  },
  {
   "cell_type": "markdown",
   "metadata": {
    "execution": {
     "iopub.execute_input": "2021-12-14T03:01:49.617937Z",
     "iopub.status.busy": "2021-12-14T03:01:49.617524Z",
     "iopub.status.idle": "2021-12-14T03:01:49.621928Z",
     "shell.execute_reply": "2021-12-14T03:01:49.620727Z",
     "shell.execute_reply.started": "2021-12-14T03:01:49.617890Z"
    }
   },
   "source": [
    "# Init the connection to get league data"
   ]
  },
  {
   "cell_type": "code",
   "execution_count": null,
   "metadata": {
    "tags": []
   },
   "outputs": [],
   "source": [
    "league = League(league_id=780429, year=2021, swid = credentials['swid'], espn_s2 = credentials['espn_s2'])"
   ]
  },
  {
   "cell_type": "code",
   "execution_count": null,
   "metadata": {
    "tags": []
   },
   "outputs": [],
   "source": [
    "league"
   ]
  },
  {
   "cell_type": "markdown",
   "metadata": {
    "execution": {
     "iopub.execute_input": "2021-12-13T22:48:58.438295Z",
     "iopub.status.busy": "2021-12-13T22:48:58.438039Z",
     "iopub.status.idle": "2021-12-13T22:48:58.442097Z",
     "shell.execute_reply": "2021-12-13T22:48:58.440921Z",
     "shell.execute_reply.started": "2021-12-13T22:48:58.438262Z"
    }
   },
   "source": [
    "# Get the data from the league"
   ]
  },
  {
   "cell_type": "markdown",
   "metadata": {},
   "source": [
    "###  get columns for dataframe"
   ]
  },
  {
   "cell_type": "code",
   "execution_count": null,
   "metadata": {
    "tags": []
   },
   "outputs": [],
   "source": [
    "cols = ['team_name', 'team_id', 'owner', 'wins', 'losses', 'ties', 'points_for', 'points_against']\n",
    "cols.extend([f'week_{week}' for week in range(1, league.current_week+1)])"
   ]
  },
  {
   "cell_type": "code",
   "execution_count": null,
   "metadata": {
    "tags": []
   },
   "outputs": [],
   "source": [
    "cols"
   ]
  },
  {
   "cell_type": "markdown",
   "metadata": {
    "execution": {
     "iopub.execute_input": "2021-12-14T03:02:23.146639Z",
     "iopub.status.busy": "2021-12-14T03:02:23.146409Z",
     "iopub.status.idle": "2021-12-14T03:02:23.150540Z",
     "shell.execute_reply": "2021-12-14T03:02:23.149206Z",
     "shell.execute_reply.started": "2021-12-14T03:02:23.146615Z"
    }
   },
   "source": [
    "## get the rows for the dataframe"
   ]
  },
  {
   "cell_type": "code",
   "execution_count": null,
   "metadata": {
    "tags": []
   },
   "outputs": [],
   "source": [
    "rows = {}\n",
    "for team in league.teams:\n",
    "    \n",
    "    weekly_scores = team.scores\n",
    "    row = [\n",
    "        team.team_name,\n",
    "        team.team_id,\n",
    "        team.owner,\n",
    "        team.wins,\n",
    "        team.losses,\n",
    "        team.ties,\n",
    "        team.points_for,\n",
    "        team.points_against\n",
    "    ]\n",
    "    row.extend(weekly_scores)\n",
    "\n",
    "    rows[team] = row"
   ]
  },
  {
   "cell_type": "code",
   "execution_count": null,
   "metadata": {
    "tags": []
   },
   "outputs": [],
   "source": [
    "data = pd.DataFrame.from_dict(rows, orient='index', columns = cols)"
   ]
  },
  {
   "cell_type": "code",
   "execution_count": null,
   "metadata": {
    "tags": []
   },
   "outputs": [],
   "source": [
    "data.to_excel('score_data.xlsx')"
   ]
  }
 ],
 "metadata": {
  "kernelspec": {
   "display_name": "Python 3",
   "language": "python",
   "name": "python3"
  },
  "language_info": {
   "codemirror_mode": {
    "name": "ipython",
    "version": 3
   },
   "file_extension": ".py",
   "mimetype": "text/x-python",
   "name": "python",
   "nbconvert_exporter": "python",
   "pygments_lexer": "ipython3",
   "version": "3.6.9"
  }
 },
 "nbformat": 4,
 "nbformat_minor": 4
}
